{
 "cells": [
  {
   "cell_type": "markdown",
   "metadata": {},
   "source": [
    "# Processing Nanodrop Data, No Python Knowledge Needed\n",
    "\n",
    "This notebook will walk you through using the nanodrop module to simplify your data. Empty columns will be deleted and the data will be converted to a [tidy format](https://www.jstatsoft.org/index.php/jss/article/view/v059i10/v59i10.pdf). In this process, the notebook will attempt to extract information from the sample names provided at the nanodrop (visible in the \"Sample ID\" column of the output). Once the data is reformatted, it can be saved as a new file, and basic plots can be constructed from it.\n",
    "\n",
    "* [Setup](#setup)\n",
    "* [Using this notebook](#using_the_notebook)\n",
    "* [Wrangling your data](#wrangling_your_data)\n",
    "* [Saving your data](#saving_your_data)\n",
    "* [Plotting your data](#plotting_your_data)\n",
    "* [Saving your plot](#saving_your_plot)\n",
    "* [Troubleshooting](#troubleshooting)"
   ]
  },
  {
   "cell_type": "markdown",
   "metadata": {},
   "source": [
    "# Setup <a class=\"anchor\" id=\"setup\"></a>\n",
    "\n",
    "## Necessary installations\n",
    "In order to use this notebook, you'll need these installed on your computer:\n",
    "- [Python 3](https://www.python.org/downloads/)\n",
    "- Jupyter\n",
    " - option 1: [install Anaconda](https://www.anaconda.com/products/individual) and launch JupyterLab from Anaconda Navigator\n",
    " - option 2: on your command line, run `pip install jupyter`\n",
    "- numpy and pandas: on your command line, run `pip install numpy pandas`\n",
    "- wrangling: on your command line, run `pip install git+https://github.com/ebentley17/Deniz_lab_code/`\n",
    "\n",
    "## Optional installations\n",
    "These are only necessary for the plotting functions of the notebook.\n",
    "- bokeh: on your command line, run `pip install bokeh`\n",
    "- selenium (only necessary to save plots): on your command line, run `pip install selenium`\n"
   ]
  },
  {
   "cell_type": "markdown",
   "metadata": {},
   "source": [
    "# Using this notebook <a class=\"anchor\" id=\"using_the_notebook\"></a>\n",
    "Jupyter notebooks are composed of cells, which are either text (like this one) or code. This notebook is designed to be usable without any knowledge of python. The notebook is editable; feel free to make notes to yourself, experiment with adjusting the code, or add in new cells to try something new. You can always re-download the unedited notebook.\n",
    "\n",
    "You can navigate between cells with the up and down arrows or by clicking. Run one cell at a time by selecting the cell and pressing `ctrl+enter`, or run all cells by selecting Run -> Run All Cells. You will be prompted to enter specific information after certain cells. A few tips:\n",
    "- You can rerun a cell to change your input. \n",
    "- Do not rerun a cell while it is still requesting input. Type \"quit\" to stop program execution instead. ([Forgot? Troubleshooting this issue](#nothing_happens))\n",
    "- Rerunning a cell will not cause another cell to update unless that cell is also rerun. Feel free to change your input in earlier cells and rerun later cells to see how they change. \n",
    "- You can rerun cells in any order, but skipping a cell without running it at all may cause problems later.\n",
    "\n",
    "#### Run this cell first:"
   ]
  },
  {
   "cell_type": "code",
   "execution_count": null,
   "metadata": {},
   "outputs": [],
   "source": [
    "import re\n",
    "import warnings\n",
    "import numpy as np\n",
    "import pandas as pd\n",
    "\n",
    "from wrangling import nanodrop\n",
    "from wrangling.tutorials import handle_input\n",
    "\n",
    "print(\"Required imports successful.\")\n",
    "\n",
    "try:\n",
    "    import bokeh.plotting\n",
    "    import bokeh.io\n",
    "    \n",
    "    from wrangling.bokeh_scatter import scatter, scatter_palette\n",
    "    \n",
    "    bokeh.io.output_notebook()\n",
    "    \n",
    "except ImportError as e:\n",
    "    print(\"Bokeh could not be loaded. Plotting is not available, but other notebook functions are.\"\n",
    "          + f\"\\nError message: {e}\")"
   ]
  },
  {
   "cell_type": "markdown",
   "metadata": {},
   "source": [
    "# Wrangling your data <a class=\"anchor\" id=\"wrangling_your_data\"></a>\n",
    "\n",
    "## Select your files\n",
    "Enter the filepath of the file or files you want to import. You can enter the specify a single file or choose multiple files using the `*` catchall character. For example, the filepath `C:/Users/Deniz/data/*.tsv` will include all files ending in `.tsv` in the `Users/Deniz/data` folder (but not in any subfolders). You can use a full filepath (on windows, usually starts with `C:/`; on Macs, usually starts with `/Users/`) or a relative filepath. If your file is in the same folder as this notebook, you can just enter the file name. It is recommended to name your files and folders without spaces.\n",
    "\n",
    "The notebook will attempt to automatically detect the file type you are using, or ask you for the file type if it fails. Currently, only csv (comma-separated values) and tsv (tab-separated values) files are supported. "
   ]
  },
  {
   "cell_type": "code",
   "execution_count": null,
   "metadata": {},
   "outputs": [],
   "source": [
    "file_list, file_ext = handle_input.interpret(\n",
    "    \"Type the filepath here:\",\n",
    "    handle_input.validate_file_input\n",
    ")\n",
    "    \n",
    "print(f\"\\nYou have selected these files:\")\n",
    "for file_name in file_list:\n",
    "    slash_index = file_name.rfind(\"/\")\n",
    "    if slash_index == -1:\n",
    "        slash_index = file_name.rfind(\"\\\\\")\n",
    "    if slash_index == -1:\n",
    "        print(file_name)\n",
    "    else:\n",
    "        print(file_name[slash_index:])\n",
    "    \n",
    "if file_ext in [\"tsv\", \"csv\"]:\n",
    "    print(f\"\\nAutomatically detected file type: {file_ext}\")\n",
    "else:\n",
    "    file_ext = handle_input.interpret(\n",
    "        \"\\nWhat file type are you using? Choose csv or tsv:\",\n",
    "        handle_input.check_membership,\n",
    "        list_to_check=[\"tsv\", \"csv\"]\n",
    "    )\n",
    "\n",
    "if \"tsv\" == file_ext:\n",
    "    file_reader_kwargs=dict(sep=\"\\t\")\n",
    "elif \"csv\" == file_ext:\n",
    "    file_reader_kwargs=dict()"
   ]
  },
  {
   "cell_type": "markdown",
   "metadata": {},
   "source": [
    "The next cell will display a preview of the first file you selected:"
   ]
  },
  {
   "cell_type": "code",
   "execution_count": null,
   "metadata": {},
   "outputs": [],
   "source": [
    "pd.read_csv(file_list[0], **file_reader_kwargs).head(3)"
   ]
  },
  {
   "cell_type": "markdown",
   "metadata": {},
   "source": [
    "## Describe your data\n",
    "The sample names you enter at the nanodrop contain important data. For this to work, your names should have a consistent format. For example, I always name my samples in the format: \n",
    "\n",
    "\\[Peptide\\]_\\[Peptide Concentration (uM)\\]_\\[RNA/Peptide Ratio\\]\n",
    "\n",
    "At the nanodrop, I might type: `Peptide1_150_0.5`\n",
    "\n",
    "I would fill out this section as follows:\n",
    "\n",
    "    How many pieces of data are in your sample names? 3\n",
    "    What separator is used in your sample names? _\n",
    "    Name of data in position 1: Peptide\n",
    "    Name of data in position 2: Peptide Concentration (uM)\n",
    "    Name of data in position 3: RNA/Peptide Ratio\n",
    "\n",
    "Describe your sample names:"
   ]
  },
  {
   "cell_type": "code",
   "execution_count": null,
   "metadata": {},
   "outputs": [],
   "source": [
    "args, kwargs = handle_input.request_parsekey_specifications()\n",
    "MyKey = nanodrop.ParseKey(*args, **kwargs)\n",
    "\n",
    "print(f\"\"\"\\nTo confirm, your sample names take the form: [{f']{MyKey.separator}['.join(MyKey.column_names)}]\n",
    "If this is incorrect, please run the cell again.\"\"\")"
   ]
  },
  {
   "cell_type": "markdown",
   "metadata": {},
   "source": [
    "## Decide how to handle unusual cases\n",
    "Your data may include blank/buffer samples, or samples that are incorrectly named by the convention you defined above. Should these samples be dropped from the dataset?\n",
    "\n",
    "If you keep these samples, they will appear in your dataframe, but no information will be extracted from their names. "
   ]
  },
  {
   "cell_type": "code",
   "execution_count": null,
   "metadata": {},
   "outputs": [],
   "source": [
    "drop_buffers = handle_input.interpret(\n",
    "    \"Should samples labeled as buffer or blank be dropped?\",\n",
    "    handle_input.yes_no_to_bool,\n",
    ")\n",
    "\n",
    "drop_incorrectly_named_samples = handle_input.interpret(\n",
    "    \"Should incorrectly named samples be dropped?\",\n",
    "    handle_input.yes_no_to_bool,\n",
    ")"
   ]
  },
  {
   "cell_type": "markdown",
   "metadata": {},
   "source": [
    "## Reformat the data\n",
    "This may take several seconds, especially if you have a lot of files. A preview of the output will display."
   ]
  },
  {
   "cell_type": "code",
   "execution_count": null,
   "metadata": {},
   "outputs": [],
   "source": [
    "data = nanodrop.tidy_data(\n",
    "    file_list, \n",
    "    file_reader_kwargs=file_reader_kwargs,\n",
    "    ParseKey=MyKey,\n",
    "    drop_incorrectly_named_samples=drop_incorrectly_named_samples,\n",
    "    drop_buffers=drop_buffers\n",
    ")\n",
    "\n",
    "data"
   ]
  },
  {
   "cell_type": "markdown",
   "metadata": {},
   "source": [
    "# Saving your data <a class=\"anchor\" id=\"saving_your_data\"></a>\n",
    "\n",
    "When you are satisfied with the data format shown above, you can save it to a new csv file."
   ]
  },
  {
   "cell_type": "code",
   "execution_count": null,
   "metadata": {},
   "outputs": [],
   "source": [
    "new_file_name = handle_input.interpret(\"What would you like to name the file?\")\n",
    "if new_file_name[-4:] != \".csv\":\n",
    "    new_file_name += \".csv\"\n",
    "\n",
    "data.to_csv(new_file_name, index=False, float_format=\"%.3f\")"
   ]
  },
  {
   "cell_type": "markdown",
   "metadata": {},
   "source": [
    "# Plotting your data <a class=\"anchor\" id=\"plotting_your_data\"></a>\n",
    "Some plug-and-go plots are provided here. \n",
    "\n",
    "If a legend is provided, you can click items to make them appear or disappear from the plot.\n",
    "\n",
    "### Scatter plot"
   ]
  },
  {
   "cell_type": "code",
   "execution_count": null,
   "metadata": {},
   "outputs": [],
   "source": [
    "specs = handle_input.request_plot_specifications(data)\n",
    "scatter_plot = scatter(height=400, **specs)\n",
    "\n",
    "if \"cat\" in specs.keys():\n",
    "    legend_location = handle_input.interpret(\n",
    "        \"Where should the legend be (or leave blank for default)?\",\n",
    "        handle_input.check_membership,\n",
    "        f\"Input must be one of {handle_input.clean_legend_locations}, or leave blank.\",\n",
    "        list_to_check=handle_input.allowed_legend_locations,\n",
    "    ).replace(\" \", \"_\")\n",
    "\n",
    "    if legend_location not in [\"\", \"None\"]:\n",
    "        scatter_plot.legend.location = legend_location\n",
    "\n",
    "bokeh.io.show(scatter_plot)"
   ]
  },
  {
   "cell_type": "markdown",
   "metadata": {},
   "source": [
    "# Saving your plot <a class=\"anchor\" id=\"saving_your_plot\"></a>\n",
    "\n",
    "Several filetypes are available to save your plot.\n",
    "* PNG (standard image type)\n",
    "* SVG (scalable, good for publications)\n",
    "* HTML (interactive, opens in a web browser)"
   ]
  },
  {
   "cell_type": "code",
   "execution_count": null,
   "metadata": {},
   "outputs": [],
   "source": [
    "file_format = handle_input.interpret(\n",
    "    \"What format would you like to save your plot in?\",\n",
    "    handle_input.check_membership,\n",
    "    list_to_check=[\"png\", \"svg\", \"html\"]\n",
    ")\n",
    "\n",
    "file_name = handle_input.interpret(\"Name your file:\")\n",
    "\n",
    "try:\n",
    "    if file_name[-len(file_format):] != file_format:\n",
    "        file_name += f\".{file_format}\"\n",
    "except:\n",
    "    file_name += f\".{file_format}\"\n",
    "\n",
    "p = scatter_plot\n",
    "    \n",
    "if file_format == \"png\":\n",
    "    bokeh.io.export_png(p, filename=file_name)\n",
    "elif file_format == \"svg\":\n",
    "    p.output_backend = 'svg'\n",
    "    bokeh.io.export_svgs(p, filename=file_name)\n",
    "    p.output_backend = 'canvas'\n",
    "elif file_format == \"html\":\n",
    "    with warnings.catch_warnings():\n",
    "        warnings.simplefilter(action='ignore', category=UserWarning)\n",
    "        bokeh.io.save(p, filename=file_name, title=\"Bokeh Plot\")"
   ]
  },
  {
   "cell_type": "markdown",
   "metadata": {},
   "source": [
    "# Troubleshooting <a class=\"anchor\" id=\"troubleshooting\"></a>\n",
    "If you got an error message in a red box, check the last line for a succinct description of the error. Read on for more specific queries.\n",
    "\n",
    "### I got a NameError\n",
    "You probably skipped a code cell. Note that if you restart the kernel, all variables are erased - even if the output is still being displayed - and you will need to rerun all the cells.\n",
    "\n",
    "### The notebook asks me the same question over and over\n",
    "When you answer a prompt and hit `Enter`, you don't advance to the next cell. If you then hit `Shift+Enter`, you'll run the same cell again. Just click on the next cell or hit the down arrow to move forward.\n",
    "\n",
    "### Nothing happens when I run a cell <a class=\"anchor\" id=\"nothing_happens\"></a>\n",
    "Another cell is probably still running. To the left of each expanded code cell, you'll see this: `[ ]:` If there's a `*` in those brackets, it means the cell hasn't finished running. \n",
    "\n",
    "A cell won't finish running until you answer all the prompts below it. (You can always type \"quit\" to stop program execution.) If you rerun a cell before it finishes executing, it will never finish running and you will have to restart the kernel.\n",
    "\n",
    "If you can't find a cell with unanswered prompts, select Kernel -> Restart Kernel. Note that this will erase the notebook's internal memory (even if the output is still displayed) and you will have to start from the first cell again.\n",
    "\n",
    "### The reformatted table is empty, or has fewer rows than I expected\n",
    "You probably described your data incorrectly and told the notebook to **drop** incorrectly named samples. The most common problem is incorrectly entering the separator or number of data chunks. Try re-entering your data description. Otherwise, your naming scheme may be inconsistent.\n",
    "\n",
    "### The reformatted table has a lot of empty columns\n",
    "You may described your data incorrectly and told the notebook to **keep** incorrectly named samples, or you may have kept a large number of buffer measurements. If the program is unable to parse your sample names, it cannot fill columns. The most common problem is incorrectly entering the separator or number of data chunks. Try re-entering your data description. Otherwise, your naming scheme may be inconsistent.\n",
    "\n",
    "## Found a bug that isn't mentioned here?\n",
    "Send me an email at ebentley@scripps.edu."
   ]
  }
 ],
 "metadata": {
  "kernelspec": {
   "display_name": "Python 3",
   "language": "python",
   "name": "python3"
  },
  "language_info": {
   "codemirror_mode": {
    "name": "ipython",
    "version": 3
   },
   "file_extension": ".py",
   "mimetype": "text/x-python",
   "name": "python",
   "nbconvert_exporter": "python",
   "pygments_lexer": "ipython3",
   "version": "3.7.7"
  }
 },
 "nbformat": 4,
 "nbformat_minor": 4
}